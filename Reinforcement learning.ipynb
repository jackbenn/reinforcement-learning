{
 "cells": [
  {
   "cell_type": "markdown",
   "id": "searching-advocate",
   "metadata": {},
   "source": [
    "Problems from *Reinforcement Learning*, by Sutton and Barto, 2nd edition."
   ]
  },
  {
   "cell_type": "code",
   "execution_count": 22,
   "id": "moral-right",
   "metadata": {},
   "outputs": [],
   "source": [
    "from scipy import stats\n",
    "import numpy as np\n",
    "import matplotlib.pyplot as plt\n",
    "%matplotlib inline"
   ]
  },
  {
   "cell_type": "markdown",
   "id": "exciting-nickname",
   "metadata": {},
   "source": [
    "Exercise 2.5 (programming) Design and conduct an experiment to demonstrate the difficulties that sample-average methods have for nonstationary problems. Use a modified version of the 10-armed testbed in which all the $q_*(a)$ start out equal and then take independent random walks (say by adding a normally distributed increment with mean zero and standard deviation 0.01 to all the $q_*(a)$ on each step). Prepare plots like Figure 2.2 for an action-value method using sample averages, incrementally computed, and another action-value method using a constant step-size parameter,$\\alpha = 0.1$. Use $\\epsilon = 0.1$ and longer runs, say of 10,000 steps."
   ]
  },
  {
   "cell_type": "code",
   "execution_count": 3,
   "id": "sensitive-tract",
   "metadata": {},
   "outputs": [
    {
     "ename": "SyntaxError",
     "evalue": "invalid syntax (<ipython-input-3-e49c45a9e5f7>, line 9)",
     "output_type": "error",
     "traceback": [
      "\u001b[0;36m  File \u001b[0;32m\"<ipython-input-3-e49c45a9e5f7>\"\u001b[0;36m, line \u001b[0;32m9\u001b[0m\n\u001b[0;31m    for t = range(1000):\u001b[0m\n\u001b[0m          ^\u001b[0m\n\u001b[0;31mSyntaxError\u001b[0m\u001b[0;31m:\u001b[0m invalid syntax\n"
     ]
    }
   ],
   "source": [
    "qs = [stats.norm(0, 1) for _ in range (10)]\n",
    "\n",
    "def update_qs(qs):\n",
    "    for i in range(len(qs)):\n",
    "        qs[i] = stats.norm(qs[i].mean + stats.norm(0, 0.01).rvs(), 1)\n",
    "\n",
    "epsilon = 0.1\n",
    "payout = []\n",
    "for t = range(1000):\n",
    "    if np.random.random() < epsilon:\n",
    "        choice = \n"
   ]
  },
  {
   "cell_type": "code",
   "execution_count": 11,
   "id": "consolidated-industry",
   "metadata": {},
   "outputs": [],
   "source": [
    "os = [0]\n",
    "alpha = 0.01\n",
    "\n",
    "for _ in range(100):\n",
    "    os.append(os[-1] + alpha*(1 - os[-1]))"
   ]
  },
  {
   "cell_type": "code",
   "execution_count": 12,
   "id": "military-mistake",
   "metadata": {},
   "outputs": [
    {
     "data": {
      "text/plain": [
       "[<matplotlib.lines.Line2D at 0x7fd47ab90be0>]"
      ]
     },
     "execution_count": 12,
     "metadata": {},
     "output_type": "execute_result"
    },
    {
     "data": {
      "image/png": "[encoded data removed]",
      "text/plain": [
       "<Figure size 432x288 with 1 Axes>"
      ]
     },
     "metadata": {
      "needs_background": "light"
     },
     "output_type": "display_data"
    }
   ],
   "source": [
    "fig, ax = plt.subplots()\n",
    "ax.plot(os)"
   ]
  },
  {
   "cell_type": "code",
   "execution_count": null,
   "id": "cooked-louis",
   "metadata": {},
   "outputs": [],
   "source": []
  },
  {
   "cell_type": "markdown",
   "id": "expected-alias",
   "metadata": {},
   "source": [
    "Discounting (from quiz)"
   ]
  },
  {
   "cell_type": "code",
   "execution_count": 14,
   "id": "extensive-wisconsin",
   "metadata": {},
   "outputs": [],
   "source": [
    "r = [-3, 5, 2, 7, 1]\n"
   ]
  },
  {
   "cell_type": "code",
   "execution_count": 15,
   "id": "outstanding-senegal",
   "metadata": {},
   "outputs": [],
   "source": [
    "def discount(r, ldb):\n",
    "    r = r.copy()\n",
    "    g = [0]\n",
    "    while r:\n",
    "        g.insert(0, r.pop() + ldb * g[0])\n",
    "        print(g)\n",
    "    return g"
   ]
  },
  {
   "cell_type": "code",
   "execution_count": 16,
   "id": "greatest-screen",
   "metadata": {},
   "outputs": [
    {
     "name": "stdout",
     "output_type": "stream",
     "text": [
      "[1.0, 0]\n",
      "[7.8, 1.0, 0]\n",
      "[8.24, 7.8, 1.0, 0]\n",
      "[11.592, 8.24, 7.8, 1.0, 0]\n",
      "[6.2736, 11.592, 8.24, 7.8, 1.0, 0]\n"
     ]
    },
    {
     "data": {
      "text/plain": [
       "[6.2736, 11.592, 8.24, 7.8, 1.0, 0]"
      ]
     },
     "execution_count": 16,
     "metadata": {},
     "output_type": "execute_result"
    }
   ],
   "source": [
    "discount(r, 0.8)"
   ]
  },
  {
   "cell_type": "code",
   "execution_count": 9,
   "id": "statistical-township",
   "metadata": {},
   "outputs": [],
   "source": [
    "list.insert?"
   ]
  },
  {
   "cell_type": "code",
   "execution_count": null,
   "id": "cathedral-officer",
   "metadata": {},
   "outputs": [],
   "source": []
  },
  {
   "cell_type": "code",
   "execution_count": 20,
   "id": "complicated-audio",
   "metadata": {},
   "outputs": [
    {
     "data": {
      "text/plain": [
       "8.24"
      ]
     },
     "execution_count": 20,
     "metadata": {},
     "output_type": "execute_result"
    }
   ],
   "source": [
    "2 + .8 * 7.8"
   ]
  },
  {
   "cell_type": "markdown",
   "id": "honey-foster",
   "metadata": {},
   "source": [
    "Exercise 4.9 (programming) Implement value iteration for the gambler’s problem and solve it for $p_h = 0.25$ and $p_h = 0.55$. In programming, you may find it convenient to introduce two dummy states corresponding to termination with capital of 0 and 100, giving them values of 0 and 1 respectively. Show your results graphically, as in Figure 4.3. Are your results stable as $\\theta \\to 0$?"
   ]
  },
  {
   "cell_type": "code",
   "execution_count": 121,
   "id": "cathedral-burlington",
   "metadata": {},
   "outputs": [],
   "source": [
    "def gamblers_values(ph=0.5, n_dollars=100, n_iterations=1000):\n",
    "    v = np.zeros(n_dollars+1)\n",
    "    v[n_dollars] = 1\n",
    "    for _ in range(n_iterations):\n",
    "        ses = np.random.choice(np.arange(1, n_dollars,\n",
    "                                         dtype=int),\n",
    "                               n_dollars-1,\n",
    "                               replace=False)\n",
    "        ses = np.arange(1, n_dollars, dtype=int)\n",
    "        for s in ses:\n",
    "            actions = np.arange(1, min(n_dollars+1-s, s+1),\n",
    "                                dtype=int)\n",
    "            v[s] = np.max(v[s + actions] * ph +\n",
    "                          v[s - actions] * (1-ph))\n",
    "    return v\n"
   ]
  },
  {
   "cell_type": "code",
   "execution_count": 122,
   "id": "intellectual-freeze",
   "metadata": {},
   "outputs": [],
   "source": [
    "def gamblers_policy(v):\n",
    "    n_dollars = len(v) - 1\n",
    "    pi = np.zeros(n_dollars + 1)\n",
    "    for s in np.arange(1, n_dollars, dtype=int):\n",
    "        actions = np.arange(1, min(n_dollars+1-s, s+1),\n",
    "                            dtype=int)\n",
    "        pi[s] = np.argmax(v[s + actions] * ph +\n",
    "                          v[s - actions] * (1-ph)) + 1\n",
    "    return pi"
   ]
  },
  {
   "cell_type": "code",
   "execution_count": 123,
   "id": "manufactured-thursday",
   "metadata": {},
   "outputs": [
    {
     "data": {
      "text/plain": [
       "<BarContainer object of 101 artists>"
      ]
     },
     "execution_count": 123,
     "metadata": {},
     "output_type": "execute_result"
    },
    {
     "data": {
      "image/png": "[encoded data removed]",
      "text/plain": [
       "<Figure size 1080x720 with 2 Axes>"
      ]
     },
     "metadata": {
      "needs_background": "light"
     },
     "output_type": "display_data"
    }
   ],
   "source": [
    "v = gamblers_values(0.31)\n",
    "pi = gamblers_policy(v)\n",
    "fig, axs = plt.subplots(2, 1, figsize=(15, 10))\n",
    "axs[0].bar(np.arange(0, 101), v)\n",
    "axs[1].bar(np.arange(0, 101), pi)"
   ]
  },
  {
   "cell_type": "code",
   "execution_count": null,
   "id": "traditional-compact",
   "metadata": {},
   "outputs": [],
   "source": []
  }
 ],
 "metadata": {
  "kernelspec": {
   "display_name": "Python 3",
   "language": "python",
   "name": "python3"
  },
  "language_info": {
   "codemirror_mode": {
    "name": "ipython",
    "version": 3
   },
   "file_extension": ".py",
   "mimetype": "text/x-python",
   "name": "python",
   "nbconvert_exporter": "python",
   "pygments_lexer": "ipython3",
   "version": "3.9.1"
  }
 },
 "nbformat": 4,
 "nbformat_minor": 5
}
